{
 "cells": [
  {
   "cell_type": "code",
   "execution_count": 17,
   "metadata": {},
   "outputs": [],
   "source": [
    "import pandas as pd\n",
    "\n",
    "df_2009_2010 = pd.read_excel('../src/original_data.xlsx', sheet_name='Year 2009-2010')\n",
    "df_2009_2010.to_csv('../src/2009_original_data.csv', index=False)\n",
    "\n",
    "df_2010_2011 = pd.read_excel('../src/original_data.xlsx', sheet_name='Year 2010-2011')\n",
    "df_2010_2011.to_csv('../src/2010_original_data.csv', index=False)\n",
    "\n",
    "df_2009_2010 = pd.read_csv('../src/2009_original_data.csv')\n",
    "df_2010_2011 = pd.read_csv('../src/2010_original_data.csv')"
   ]
  },
  {
   "cell_type": "code",
   "execution_count": 18,
   "metadata": {},
   "outputs": [
    {
     "name": "stdout",
     "output_type": "stream",
     "text": [
      "----------------------\n"
     ]
    },
    {
     "data": {
      "text/plain": [
       "Invoice             0\n",
       "StockCode           0\n",
       "Description      1454\n",
       "Quantity            0\n",
       "InvoiceDate         0\n",
       "Price               0\n",
       "Customer ID    135080\n",
       "Country             0\n",
       "dtype: int64"
      ]
     },
     "execution_count": 18,
     "metadata": {},
     "output_type": "execute_result"
    }
   ],
   "source": [
    "df_2009_2010.isnull().sum()\n",
    "print(\"----------------------\")\n",
    "df_2010_2011.isnull().sum()"
   ]
  }
 ],
 "metadata": {
  "kernelspec": {
   "display_name": "Pandas",
   "language": "python",
   "name": "python3"
  },
  "language_info": {
   "codemirror_mode": {
    "name": "ipython",
    "version": 3
   },
   "file_extension": ".py",
   "mimetype": "text/x-python",
   "name": "python",
   "nbconvert_exporter": "python",
   "pygments_lexer": "ipython3",
   "version": "3.10.9"
  },
  "orig_nbformat": 4
 },
 "nbformat": 4,
 "nbformat_minor": 2
}
